{
 "cells": [
  {
   "cell_type": "raw",
   "id": "4b9f0645",
   "metadata": {},
   "source": [
    "Q 1. How do you distinguish between shutil.copy() and shutil.copytree()?\n",
    "ANSWER:-\n",
    "\"shutil.copy()\" will copy a single file.\"shutil.copytree()\" will copy an entire folder and every folder and file contained in it.\n",
    "\n",
    "\n",
    "\n",
    "\n",
    "Q 2. What function is used to rename files??\n",
    "ANSWER:-\n",
    "shutil.move will rename files.\n",
    "\n",
    "\n",
    "\n",
    "\n",
    "Q 3. What is the difference between the delete functions in the send2trash and shutil modules?\n",
    "ANSWER:-\n",
    "shutil.rmtree() function irreversibly deletes files and folders. send2trash will send folders and files to computer's trash or recycle bin instead of permanently deleting them.\n",
    "\n",
    "\n",
    "\n",
    "\n",
    "Q 4.ZipFile objects have a close() method just like File objects’ close() method. What ZipFile method is equivalent to File objects’ open() method?\n",
    "ANSWER:-\n",
    "ZipFile method is equivalant to File objects' open() method. For example,\n",
    "\n",
    "import zipfile\n",
    "newZip = zipfile.ZipFile('new.zip', 'w')\n",
    "\n",
    "\n",
    "\n",
    "\n",
    "Q 5. Create a programme that searches a folder tree for files with a certain file extension (such as .pdf or .jpg). Copy these files from whatever location they are in to a new folder.\n",
    "ANSWER:-\n",
    "import os, shutil\n",
    "\n",
    "def selectiveCopy(folder, extensions, destFolder):\n",
    "    folder = os.path.abspath(folder)\n",
    "    destFolder = os.path.abspath(destFolder)\n",
    "    print('Looking in', folder, 'for files with extensions of', ', '.join(extensions))\n",
    "    for foldername, subfolders, filenames in os.walk(folder):\n",
    "        for filename in filenames:\n",
    "            name, extension = os.path.splitext(filename)\n",
    "            if extension in extensions:\n",
    "                fileAbsPath = foldername + os.path.sep + filename\n",
    "                print('Coping', fileAbsPath, 'to', destFolder)\n",
    "                shutil.copy(fileAbsPath, destFolder)\n",
    "\n",
    "extensions = ['.php', '.py']\n",
    "folder = 'randomFolder'\n",
    "destFolder = 'selectiveFolder'\n",
    "selectiveCopy(folder, extensions, destFolder)\n",
    "\n",
    "Looking in E:\\Study Materials\\iNeuron\\Full Stack Data Science Course\\Class Recordings\\Module 1 Python\\Python Basic Assignment\\Solutions\\randomFolder for files with extensions of .php, .py"
   ]
  }
 ],
 "metadata": {
  "kernelspec": {
   "display_name": "Python 3 (ipykernel)",
   "language": "python",
   "name": "python3"
  },
  "language_info": {
   "codemirror_mode": {
    "name": "ipython",
    "version": 3
   },
   "file_extension": ".py",
   "mimetype": "text/x-python",
   "name": "python",
   "nbconvert_exporter": "python",
   "pygments_lexer": "ipython3",
   "version": "3.9.7"
  }
 },
 "nbformat": 4,
 "nbformat_minor": 5
}
